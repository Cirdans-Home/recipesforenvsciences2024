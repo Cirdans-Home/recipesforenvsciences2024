{
 "cells": [
  {
   "cell_type": "markdown",
   "id": "83cfcd2b",
   "metadata": {},
   "source": [
    "# Graphs and Networks\n",
    "\n",
    "Understanding complex systems often requires a bottom-up analysis. This can be\n",
    "done by examining the elementary parts of the system individually and then\n",
    "by turning the analysis towards the connection between them. A natural way of\n",
    "performing this type of analysis is through the use of **networks** or\n",
    "**graphs**.\n",
    "\n",
    "```{prf:definition}\n",
    "A **graph** $G=(V,E)$ consists of a finite set $V$ of **vertices** (or nodes)\n",
    "and a finite set $E$ of **edges**, where each edge $e\\in E$ is of the form\n",
    "$e=\\{u,v\\}$ with $u,v\\in V$.\n",
    "```\n",
    "\n",
    "And we will make here the following simplifying assumptions:\n",
    "- we do not allow any edge to be a self-loop, i.e., an edge that starts and ends\n",
    "at the same vertex,\n",
    "- we do not allow more than one edge between any pair of vertices,\n",
    "- unless mentioned otherwise we will mostly consider undirected edges, that is\n",
    "edge $e = \\{u,v\\} = \\{v,u\\}$.\n",
    "\n",
    "Now, let us fix some notation and nomenclature.\n",
    "```{prf:definition}\n",
    "Two vertices, $u$ and $v$, are called **adjacent** if there is an edge, $uv$,\n",
    "connecting them. We can express adjacency of $u$ and $v$ by writing $u\\sim v.$\n",
    "```\n",
    "\n",
    "```{prf:definition}\n",
    "If $v$ is a vertex in a graph $G$, the **degree** of $v$, denoted $\\operatorname{deg}(v)$,\n",
    "is the number of edges adjacent to $v$.\n",
    "```\n",
    "\n",
    "```{prf:definition}\n",
    "A **walk** in a graph is a sequence of vertices and edges $v_0$, $e_1$, $v_1$, $e_2$, $v_2$, $\\ldots$, $v_{k-1}$, $e_k$, $v_k$ such that edge $e_i$ connects vertices $v_{i-1}$ and $v_i$, for $1 \\leq i \\leq k$.\n",
    "```\n",
    "\n",
    "```{prf:definition}\n",
    "A graph $G$ is **connected** if for any two vertices $u$ and $v$ of $G$,\n",
    "there is a *walk* in $G$ from $u$ to $v$.\n",
    "```\n",
    "\n",
    "The first way to store a graph into a computer is as an **adjacency matrix**.\n",
    "Given a graph $G$ with $n$ vertices, we start by label them from $1$ to $n$, then\n",
    "the adjacency matrix representing this graph will be an $n\\times n$ matrix\n",
    "whose entries are either 0 or 1, specifically\n",
    "```{math}\n",
    "A(i,j) = \\begin{cases}\n",
    "1, & (v_i,v_j) \\in E,\\\\\n",
    "0, & \\text{otherwise}.\n",
    "\\end{cases}\n",
    "```\n",
    "\n",
    "We now have much of the dictionary we need to start investigating some examples\n",
    "of graphs and networks that are used in applications. We will uncover some more\n",
    "information by working through the test cases.\n",
    "\n",
    "## A social network made of dolphins\n",
    "\n",
    "How can we use these abstract objects to model some systems of interest? We have\n",
    "said from the beginning that graphs are useful to describe pairwise interactions\n",
    "between vertices. We will start as usual from an example, and in particular we\n",
    "will focus on the network of social relationship between a population of\n",
    "Doubtful Sound bottlenose dolphins {cite}`lusseau2003emergent`. It has been\n",
    "observed that gregarious, long-lived animals, such as gorillas (*Gorilla\n",
    "gorilla*), deer (*Cervus elaphus*), elephants (*Loxodonta\n",
    "africanus*) and bottlenose dolphins (*Tursiops truncatus*) rely\n",
    "on information transfer to exploit their habitat. Thus investigating their\n",
    "social structure is surely of interest.\n",
    "\n",
    "First of all, let us fetch and load the data into the MATLAB environment"
   ]
  },
  {
   "cell_type": "code",
   "execution_count": null,
   "id": "5dd40e2e",
   "metadata": {},
   "outputs": [],
   "source": [
    "%% Loading the Network\n",
    "websave('dolphins.mat','https://suitesparse-collection-website.herokuapp.com/mat/Newman/dolphins.mat');\n",
    "load('dolphins.mat')\n",
    "disp(Problem)"
   ]
  },
  {
   "cell_type": "markdown",
   "id": "74efbac3",
   "metadata": {},
   "source": [
    "The variable `Problem` is a `struct` variables containing several information,\n",
    "what mostly concerns us now is the field `Problem.A` that contains the **adjacency**\n",
    "matrix of our graph. We can now use MATLAB to transform it into the graph\n",
    "format and visualize it"
   ]
  },
  {
   "cell_type": "code",
   "execution_count": null,
   "id": "974152d6",
   "metadata": {},
   "outputs": [],
   "source": [
    "G = graph(Problem.A);\n",
    "figure(1)\n",
    "plot(G)\n",
    "title(Problem.title)"
   ]
  },
  {
   "cell_type": "markdown",
   "id": "4606bf00",
   "metadata": {},
   "source": [
    "What are we seeing? In the word of the *author* {cite}`lusseau2003emergent`:\n",
    "> Every time that\n",
    "a school of dolphins was encountered in the fjord between 1995 and\n",
    "2001, each adult member of the school was photographed and identified from natural markings on the dorsal fin. This information was\n",
    "used to determine how often two individuals were seen together. To\n",
    "measure how closely two individuals were associated in the population (i.e. how often they were to be found together) I calculated a half-weight index (HWI) of association for each pair of individuals\n",
    "(Cairns & Schwäger 1987). This index estimates the likelihood that\n",
    "two individuals would be seen together compared with the likelihood\n",
    "of seeing any of the two individuals when encountering a school: [...]\n",
    "Over the 7 years of observation the composition of 1292\n",
    "schools was gathered. There were 64 adult individuals in\n",
    "this social network linked by 159 preferred companionships (edges)\n",
    "\n",
    "Now let us  try to investigate some properties of the network to infer some\n",
    "information on the dolphins. The first thing we want to look at are the **degrees**\n",
    "of the vertexes:"
   ]
  },
  {
   "cell_type": "code",
   "execution_count": null,
   "id": "6de153a0",
   "metadata": {},
   "outputs": [],
   "source": [
    "degree = G.degree;\n",
    "[sorted_degree,rank] = sort(degree,'descend');\n",
    "figure(2)\n",
    "plot(1:G.numnodes,sorted_degree,'o');\n",
    "axis([1 64 1 max(degree)])\n",
    "xlabel('Vertex')\n",
    "ylabel('Degree')\n",
    "xticks(1:G.numnodes)\n",
    "xticklabels(rank)\n",
    "xtickangle(90)"
   ]
  },
  {
   "cell_type": "markdown",
   "id": "37deb009",
   "metadata": {},
   "source": [
    "The behavior of the (reordered) degree distribution seem suspicious... let us\n",
    "look more into it, we call $k$ the degree and $p(k)$ the number of nodes with\n",
    "that degree"
   ]
  },
  {
   "cell_type": "code",
   "execution_count": null,
   "id": "3a874ddb",
   "metadata": {},
   "outputs": [],
   "source": [
    "[gc,gr] = groupcounts(degree);\n",
    "figure(3)\n",
    "plot(gr,gc,'o')\n",
    "xlabel('k')\n",
    "ylabel('p(k)')"
   ]
  },
  {
   "cell_type": "markdown",
   "id": "726cb28f",
   "metadata": {},
   "source": [
    "Now we observe that the behavior for smaller degree is uncertain, while the data\n",
    "clearly exhibit a *tail* (an *asymptotic*) that decays as a power law. Let us\n",
    "use the techinique for parameter estimation we have seen in the last topic for\n",
    "this case"
   ]
  },
  {
   "cell_type": "code",
   "execution_count": null,
   "id": "1e76f623",
   "metadata": {},
   "outputs": [],
   "source": [
    "fo = fitoptions('Method','NonlinearLeastSquares',...\n",
    "               'Lower',[0 0],...\n",
    "               'Upper',[Inf Inf],...\n",
    "               'StartPoint',[1 1]);\n",
    "ft = fittype('a*x.^(-b)','options',fo);\n",
    "[curve,gof] = fit(gr(6:end),gc(6:end),ft);\n",
    "% We plot the results\n",
    "figure(1)\n",
    "plot(curve,gr(6:end),gc(6:end))\n",
    "xlabel('k');\n",
    "ylabel('p(k)');"
   ]
  },
  {
   "cell_type": "markdown",
   "id": "98952501",
   "metadata": {},
   "source": [
    "We have obtained a reasonable fit"
   ]
  },
  {
   "cell_type": "code",
   "execution_count": null,
   "id": "43e1cf95",
   "metadata": {},
   "outputs": [],
   "source": [
    "disp(curve);"
   ]
  },
  {
   "cell_type": "markdown",
   "id": "e9ce543f",
   "metadata": {},
   "source": [
    "with $p(k) \\sim k^{-2.365}$.\n",
    "\n",
    "::::{admonition} Scale-free networks\n",
    ":class: tip\n",
    "\n",
    "A **scale-free** network is a network whose degree distribution follows a power\n",
    "law, at least *asymptotically*. That is, the fraction $p(k)$ of nodes in the\n",
    "network having degree $k$ behaves for large values of $k$ as\n",
    "```{math}\n",
    "p(k) \\sim k^{-\\alpha}, \\quad 2 < \\alpha < 3.\n",
    "```\n",
    "::::\n",
    "\n",
    "This type of networks have usually several properties that we can use to\n",
    "interpret the underlying phenomena. One of them is that they usually have a\n",
    "*small diameter*, that is, the length of the \"longest shortest path\", i.e.,\n",
    "the largest number of vertices which must be traversed in order to travel\n",
    "from one vertex to another when paths which backtrack, detour, or loop are\n",
    "excluded from consideration. We can compute it by doing"
   ]
  },
  {
   "cell_type": "code",
   "execution_count": null,
   "id": "3483fe88",
   "metadata": {},
   "outputs": [],
   "source": [
    "diameter = max(distances(G),[],'all');\n",
    "disp(diameter)"
   ]
  },
  {
   "cell_type": "markdown",
   "id": "075e6b45",
   "metadata": {},
   "source": [
    "Thank to this property, dolphin scale-free network is *resilient to random\n",
    "attacks*. If we remove some random nodes the increase in the diameter is small:"
   ]
  },
  {
   "cell_type": "code",
   "execution_count": null,
   "id": "2ddd692d",
   "metadata": {},
   "outputs": [],
   "source": [
    "percentage_of_removed = [0.05,0.10,0.15,0.20];\n",
    "\n",
    "for j=1:length(percentage_of_removed)\n",
    "    percentage = percentage_of_removed(j);\n",
    "    for i = 1:500\n",
    "        H = G;\n",
    "        removednodes = randi(G.numnodes,floor(percentage*G.numnodes),1);\n",
    "        H = H.rmnode(removednodes);\n",
    "        [bin,binsize] = conncomp(H);\n",
    "        idx = binsize(bin) == max(binsize);\n",
    "        SG = subgraph(H, idx);\n",
    "        diameters(j,i) = max(distances(SG),[],'all');\n",
    "    end\n",
    "end\n",
    "\n",
    "figure(4)\n",
    "boxplot(diameters.')\n",
    "ylabel('Diameter')\n",
    "xlabel('Percentage of removed nodes')\n",
    "xticklabels(percentage_of_removed);"
   ]
  },
  {
   "cell_type": "markdown",
   "id": "b07e6d9e",
   "metadata": {},
   "source": [
    "## Finding communities\n",
    "\n",
    "Let us start again from an example, we consider here some data from {cite}`van2014cooperative`\n",
    "related to the behavior of a specie of *social birds* that nest in communal\n",
    "chambers. These contains a set of networks constructed in the following way:\n",
    "> An individual was assigned to a given nest chamber once it had been observed\n",
    "to enter it, irrespective of the activity carried out, i.e. either building the\n",
    "nest chamber or roosting in it. A network ‘edge’ was drawn between individuals\n",
    "that used the same nest chambers either for roosting or nest-building at any\n",
    "given time within a series of observations at the same colony in the same year,\n",
    "either together in the nest chamber at the same time or at different times.\n",
    "These individuals werethus assumed to be associated.\n",
    "\n",
    "We read from the [data file](https://github.com/Cirdans-Home/recipesforenvsciences/raw/main/src/aves-wildbird-network-1.edges) the nodes,\n",
    "and edges of the network. The file (that we obtained from the Network Repository {cite}`nr`)\n",
    "is not formatted as a CSV file, but has instead spaces to separate the data,\n",
    "thus we use the command `dlmread`, that generalizes the `csvread` command"
   ]
  },
  {
   "cell_type": "code",
   "execution_count": null,
   "id": "3034a482",
   "metadata": {},
   "outputs": [],
   "source": [
    "data = dlmread('aves-wildbird-network-1.edges');"
   ]
  },
  {
   "cell_type": "markdown",
   "id": "705747d9",
   "metadata": {},
   "source": [
    "with this we have obtained a matrix with three columns and number of edges rows\n",
    "in which the first column represents the starting node, the second column the\n",
    "ending node, and the third one the edge weight. With this data we can build\n",
    "a graph"
   ]
  },
  {
   "cell_type": "code",
   "execution_count": null,
   "id": "574b7770",
   "metadata": {},
   "outputs": [],
   "source": [
    "G = graph(data(:,1),data(:,2),data(:,3));"
   ]
  },
  {
   "cell_type": "markdown",
   "id": "42bc9ed3",
   "metadata": {},
   "source": [
    "and then plot it"
   ]
  },
  {
   "cell_type": "code",
   "execution_count": null,
   "id": "644b3c14",
   "metadata": {},
   "outputs": [],
   "source": [
    "plot(G,'Layout',\"force3\");"
   ]
  },
  {
   "cell_type": "markdown",
   "id": "8acb4834",
   "metadata": {},
   "source": [
    "From the plot we suspect that we can identify two communities in our set of\n",
    "birds, but how can we do it mathematically? This task is called a task of\n",
    "**community detection**, and there are many algorithms and strategies for\n",
    "achieving it. We are going to focus here on a techinique that is\n",
    "called **spectral clustering**. First of all we need a particular representation\n",
    "of the network with a *matrix* called a *Laplacian of the network*:"
   ]
  },
  {
   "cell_type": "code",
   "execution_count": null,
   "id": "48665c1a",
   "metadata": {},
   "outputs": [],
   "source": [
    "L = laplacian(G);"
   ]
  },
  {
   "cell_type": "markdown",
   "id": "48cc2793",
   "metadata": {},
   "source": [
    "Then we recover the **spectral information** by the command:"
   ]
  },
  {
   "cell_type": "code",
   "execution_count": null,
   "id": "b90e1c7c",
   "metadata": {},
   "outputs": [],
   "source": [
    "[v,l] = eigs(L,2,'smallestabs');"
   ]
  },
  {
   "cell_type": "markdown",
   "id": "914f11b1",
   "metadata": {},
   "source": [
    "This gives us two vectors $\\mathbf{v}_1$ and $\\mathbf{v}_2$ and two values\n",
    "$\\lambda_1$ and $\\lambda_2$ such that\n",
    "```{math}\n",
    "L \\mathbf{v}_1 = \\lambda_1 \\mathbf{v}_1, \\quad L \\mathbf{v}_2 = \\lambda_2 \\mathbf{v}_2,\n",
    "```\n",
    "these are called, respectively, **eigenvectors**, and **eigenvalues**. If\n",
    "we inspect them we observe that $v_1(i) > 0$ for all $i = 1,\\ldots,N$, and\n",
    "moreover it has a constant value. The second one, is the one we are actually\n",
    "interested in, this has both values that are $> 0$ and $< 0$. We are going to\n",
    "use them to determine the communities:"
   ]
  },
  {
   "cell_type": "code",
   "execution_count": null,
   "id": "c3af65b1",
   "metadata": {},
   "outputs": [],
   "source": [
    "ind1 = find(v(:,2) > 0);\n",
    "ind2 = find(v(:,2) < 0);"
   ]
  },
  {
   "cell_type": "markdown",
   "id": "0a4f3319",
   "metadata": {},
   "source": [
    "Now let us evidentiate the nodes on the graph"
   ]
  },
  {
   "cell_type": "code",
   "execution_count": null,
   "id": "54decb32",
   "metadata": {},
   "outputs": [],
   "source": [
    "h = plot(G,'Layout',\"force3\");\n",
    "highlight(h,ind1,\"NodeColor\",'red',\"MarkerSize\",6)\n",
    "highlight(h,ind2,\"NodeColor\",'blue',\"MarkerSize\",6)"
   ]
  },
  {
   "cell_type": "markdown",
   "id": "f9e83b60",
   "metadata": {},
   "source": [
    "and as you can observe the procedure did evidentiate the two communities we\n",
    "were suspecting by working directly on the data. On the other hand, now that\n",
    "we look better at the data, we suspect that there could be more than two\n",
    "communities, the larger one seems to be splittable in two. We can try to\n",
    "identify larger number of communities, by **computing more eigenvectors**"
   ]
  },
  {
   "cell_type": "code",
   "execution_count": null,
   "id": "3bc359a0",
   "metadata": {},
   "outputs": [],
   "source": [
    "[v,l] = eigs(L,3,'smallestabs');\n",
    "idx = kmeans(v(:,2:3),3);\n",
    "ind1 = find(idx == 1);\n",
    "ind2 = find(idx == 2);\n",
    "ind3 = find(idx == 3);\n",
    "h = plot(G,'Layout',\"force3\");\n",
    "highlight(h,ind1,\"NodeColor\",'red',\"MarkerSize\",6)\n",
    "highlight(h,ind2,\"NodeColor\",'blue',\"MarkerSize\",6)\n",
    "highlight(h,ind3,\"NodeColor\",'green',\"MarkerSize\",6)"
   ]
  },
  {
   "cell_type": "markdown",
   "id": "17bf701b",
   "metadata": {},
   "source": [
    "now we don't have a clear cut between positive and negative values in a single\n",
    "vector, thus we have to employ another algorithm to do the separation for us.\n",
    "This is the **$K$-means** algorithm that returns as a vector of indexes for the\n",
    "corresponding communities.\n",
    "\n",
    ":::{tip}\n",
    "$K$-means is a *clustering method* that uses the process of **vector quantization**,\n",
    "it was originally devised in the signal processing community with the aims of\n",
    "partitioning $n$ observations into $k$ clusters in which each observation\n",
    "belongs to the cluster with the nearest mean, i.e., the mean servs as a\n",
    "prototype of the cluster.\n",
    "\n",
    "It can be formally expressed as the minimization problem\n",
    "```{math}\n",
    "\\arg\\min_{\\mathbf{S}=\\{S_1,\\ldots,S_k\\}} \\sum_{i=1}^{k}\\sum_{\\mathbf{x} \\in S_i} \\| \\mathbf{x} - \\mathbf{\\mu}_i\\|^2,\n",
    "```\n",
    "where we are given $\\{\\mathbf{x}_1,\\ldots,\\mathbf{x}_n\\}$ observations, to\n",
    "cluster in $k\\,(\\leq n)$ groups $\\{S_1,\\ldots,S_k\\}$, and $\\mathbf{\\mu}_i$ is\n",
    "the mean of the points in $S_i$.\n",
    ":::\n",
    "\n",
    "But how do we know if we haven't lost some community in our analysis? To test\n",
    "this idea we can use another concept from graph theory that is called **modularity**.\n",
    "\n",
    "```{prf:definition}\n",
    "**Modularity** is a measure of the structure of networks or graphs which measures\n",
    "the strength of division of a network into communities, it is computed as\n",
    "the fraction of the edges that fall within the given groups minus the expected\n",
    "fraction if edges were distributed at random.\n",
    "```\n",
    "\n",
    "There are several ways for computing this quantity, we give here a very\n",
    "straigthforward\n",
    "```{code} matlab\n",
    "function Q = modularity(A, g)\n",
    "%% MODULARITY computes the modularity of the of the partition in group g of the\n",
    "% graph with adjacency matrix A.\n",
    "\n",
    "nCommunities = numel(unique(g));\n",
    "nNodes = length(g);\n",
    "\n",
    "e = zeros(nCommunities);\n",
    "for i = 1:nNodes\n",
    "    for j = 1:nNodes\n",
    "        e(g(i), g(j)) = e(g(i), g(j)) + A(i, j);\n",
    "    end\n",
    "end\n",
    "nEdges = sum(A(:));  % we could use nnz(A), but we want to take into account weights\n",
    "a_out = sum(e, 2);   % out-degree\n",
    "a_in = (sum(e, 1))'; % in-degree\n",
    "a = a_in.*a_out/nEdges^2;\n",
    "Q = trace(e)/nEdges - sum(a);\n",
    "\n",
    "end\n",
    "```\n",
    "and we try to use it to evaluate the communities we have found"
   ]
  },
  {
   "cell_type": "code",
   "execution_count": null,
   "id": "7140db56",
   "metadata": {},
   "outputs": [],
   "source": [
    "%% Analysis of Community Structure\n",
    "addpath('matlabcodes')\n",
    "data = dlmread('aves-wildbird-network-1.edges');\n",
    "color = {'red','blue','magenta','green'};\n",
    "G = graph(data(:,1),data(:,2),data(:,3));\n",
    "L = laplacian(G);\n",
    "for i = 1:3\n",
    "    [v,l] = eigs(L,i+1,'smallestabs');\n",
    "    groupvec = kmeans(v(:,2:i+1),i+1);\n",
    "    figure(1)\n",
    "    subplot(1,3,i);\n",
    "    h = plot(G,'Layout',\"force3\");\n",
    "    for j = 1:i+1\n",
    "       ind = find(groupvec == j);\n",
    "       highlight(h,ind,\"NodeColor\",color{j},\"MarkerSize\",6)\n",
    "    end\n",
    "    Q = modularity(adjacency(G),groupvec);\n",
    "    title(['Modularity is ',string(Q)])\n",
    "end\n",
    "set(gcf,'Position',[-1984 426 1301 395]);"
   ]
  },
  {
   "cell_type": "markdown",
   "id": "99fe40f0",
   "metadata": {},
   "source": [
    "from which we observe that if we try to find more than three communities the\n",
    "modularity starts decreasing. Thus it seems that we are done with three\n",
    "communities for this dataset.\n",
    "\n",
    "::::{exercise}\n",
    "We write a function that looks for in a graph up to $n$ communities and returns\n",
    "the number of communities within $n$ with the highest modularity.\n",
    "\n",
    "```{code} matlab\n",
    "function [groups,outmodularity,optimum] = findcommunities(G,k)\n",
    "%%FINDCOMMUNITIES looks in G up to n communities and returns the number\n",
    "%of communities within n with the highest modularity.\n",
    "%   G = graph\n",
    "%   k = maximum number of communities\n",
    "\n",
    "if (k > G.numnodes)\n",
    "    error(\"You cannot have more than number of nodes communities\");\n",
    "end\n",
    "if (k < 2)\n",
    "    error(\"You cannot have less than 2 communities\");\n",
    "end\n",
    "\n",
    "% Allocate the space for the groups matrix of number of nodes rows and\n",
    "% k-1 columns\n",
    "\n",
    "% Allocate the space for the modularities: vector with k-1 entries\n",
    "\n",
    "% Loop through the possible community size\n",
    "% | Compute eigenvectors\n",
    "% | Use k-means\n",
    "% | Compute modularity\n",
    "% end of the for loop\n",
    "\n",
    "% Compute the index for which maximum modularity is obtained\n",
    "\n",
    "end\n",
    "```\n",
    "\n",
    "You can test the algorithm on some of the networks on some [Animal social networks](https://networkrepository.com/asn.php).\n",
    "\n",
    ":::{tip} To ensure that the function also automatically produces graphs highlighting the\n",
    "communities, the following two auxiliary codes can be used:\n",
    "- [Generate maximally perceptually-distinct colors](https://it.mathworks.com/matlabcentral/fileexchange/29702-generate-maximally-perceptually-distinct-colors) This function generates a set\n",
    "of colors which are distinguishable by reference to the \"Lab\" color space, which\n",
    "more closely matches human color perception than RGB.\n",
    "- [neatly arrange subplots](https://it.mathworks.com/matlabcentral/fileexchange/26310-numsubplots-neatly-arrange-subplots) Sometimes a graphing function will not know in advance how many\n",
    "sub-plots are to be created. This function produces reasonable values for the\n",
    "row and column inputs to subplot given the number of desired sub-plots.\n",
    ":::\n",
    "\n",
    "::::\n",
    "\n",
    "## Centrality\n",
    "\n",
    "The next type of analysis we want to address is the computation of a\n",
    "**node centrality score**, this type of analysis can (usually) be done by\n",
    "employing some *topological* measures, i.e., that depends only on the\n",
    "connections of the nodes, to score nodes by their \"importance\".\n",
    "\n",
    "::::{prf:definition}\n",
    "A **graph Centrality measures** are scalar values given to each node in the\n",
    "graph $G = (V,E)$ to quantify its *importance*. The definition of what is\n",
    "*important* depends on the underlying model assumption.\n",
    "::::\n",
    "\n",
    "Let us see some **measures** on a sample graph $G = (V,E)$ that could be, e.g.,\n",
    "the *contact network* [ia-infect-hyper.mtx](https://github.com/Cirdans-Home/recipesforenvsciences/raw/main/src/data/ia-infect-hyper.mtx)\n",
    "where nodes represent humans and edges between them represent proximity, i.e.,\n",
    "a contact for a given period of time in the physical world; see {cite}`nr`."
   ]
  },
  {
   "cell_type": "code",
   "execution_count": null,
   "id": "ab20789a",
   "metadata": {},
   "outputs": [],
   "source": [
    "addpath('./data')\n",
    "data = dlmread('ia-infect-hyper.mtx',' ',2,0);\n",
    "G = graph(data(:,1),data(:,2));\n",
    "fprintf(\"G is a Network with %d nodes and %d edges.\\n\",G.numnodes,G.numedges);"
   ]
  },
  {
   "cell_type": "markdown",
   "id": "88cf9ca9",
   "metadata": {},
   "source": [
    "- **Degree centrality**. It is defined as the number of node neighbors for each\n",
    "node in the graph. If the network is directed, we have two versions of this\n",
    "measure: the *in-degree* is the number of incoming edges, and the *out-degree*\n",
    "that is in turn the number of out-going edges. This is a *local measure*, that\n",
    "means that as a measure it doesn't take neighbors connectivity into account.\n",
    "It can be interpreted as a form of popularity."
   ]
  },
  {
   "cell_type": "code",
   "execution_count": null,
   "id": "dc4ab032",
   "metadata": {},
   "outputs": [],
   "source": [
    "degree_centrality = G.degree;"
   ]
  },
  {
   "cell_type": "markdown",
   "id": "43a0aa32",
   "metadata": {},
   "source": [
    "- **Closeness centrality**. This centrality measures node efficiency in terms\n",
    "of connection to other nodes. Is defined as the average length of the shortest\n",
    "path between the node and all other nodes in the graph, i.e., the more central\n",
    "a node is, the closer it is to all other nodes.\n",
    "```{math}\n",
    "v \\in V, \\quad C(v) =  \\frac{1}{\\sum_{w \\in V} d(v,w)}.\n",
    "```"
   ]
  },
  {
   "cell_type": "code",
   "execution_count": null,
   "id": "55406989",
   "metadata": {},
   "outputs": [],
   "source": [
    "closeness_centrality = centrality(G,\"closeness\");"
   ]
  },
  {
   "cell_type": "markdown",
   "id": "67f89a6c",
   "metadata": {},
   "source": [
    "- **Betweenness centrality**. This measure quantifies the number of times a\n",
    "node acts as a *bridge* along the shortest path between two other nodes, that is,\n",
    "let us say that we want to compute it for a vertex $v \\in V$. We first compute\n",
    "**all** the shortest paths between each pair of vertices $(s,t)$, then for each\n",
    "of the couples we determine the fraction of shortest paths that pass through $v$.\n",
    "The measure is then the sum this fraction over all pairs of vertices, succinctly\n",
    "```{math}\n",
    "v \\in V, \\quad B(v) = \\sum_{s \\neq v \\neq t \\in V} \\frac{\\sigma_{st}(v)}{\\sigma_{st}}, \\; \\begin{array}{l}\n",
    "\\sigma_{st} = |\\{ \\text{shortest paths between s and t }\\}|, \\\\ \\sigma_{st}(v) = |\\{ \\text{shortest paths between s and t passing per v}\\}|.\n",
    "\\end{array}\n",
    "```"
   ]
  },
  {
   "cell_type": "code",
   "execution_count": null,
   "id": "2f1763b9",
   "metadata": {},
   "outputs": [],
   "source": [
    "betweenness_centrality = centrality(G,\"betweenness\");"
   ]
  },
  {
   "cell_type": "markdown",
   "id": "35d92f14",
   "metadata": {},
   "source": [
    "- **Eigenvector centrality**.  It assigns relative scores to all nodes in the\n",
    "network based on the *assumption* that \"connections to important nodes\n",
    "matters more to the score of the node we are looking at than equal\n",
    "connections to low importance nodes\". This idea can be formalized in different\n",
    "ways. The first we consider is the case in which we use the *eigenvector*\n",
    "corresponding to the *largest eigenvalue* of the graph adjacency matrix."
   ]
  },
  {
   "cell_type": "code",
   "execution_count": null,
   "id": "1f77d524",
   "metadata": {},
   "outputs": [],
   "source": [
    "eigenvector_centrality = centrality(G,\"eigenvector\");"
   ]
  },
  {
   "cell_type": "markdown",
   "id": "ddfac19e",
   "metadata": {},
   "source": [
    "- **PageRank**. This is the algorithm used by Google Search to rank the web\n",
    "pages in their search engine results. The score given by this algorithm is a\n",
    "*probability distribution* representing the likelihood of randomly exploring\n",
    "the network and arriving at any particular page.\n",
    "```{math}\n",
    "\\mathbf{p} = \\mathbf{p}\\left(\\gamma P + (1-\\gamma) \\mathbf{v}\\mathbf{1}^T\\right),  \\quad P = \\operatorname{diag}(A\\mathbf{1})^{-1}A,\\; \\gamma \\in [0,1], \\; \\mathbf{1}^T\\mathbf{v} = 1.\n",
    "```"
   ]
  },
  {
   "cell_type": "code",
   "execution_count": null,
   "id": "a76b2681",
   "metadata": {},
   "outputs": [],
   "source": [
    "pagerank_centrality = centrality(G,\"pagerank\");"
   ]
  },
  {
   "cell_type": "markdown",
   "id": "40c9875e",
   "metadata": {},
   "source": [
    "We can now try to look at the most-important nodes for the different measures.\n",
    "Since we are only interested in the ranking (and not in the actual value of\n",
    "the measure) we will make use of the `sort` function from MATLAB to get the\n",
    "information we want"
   ]
  },
  {
   "cell_type": "code",
   "execution_count": null,
   "id": "981dfeb1",
   "metadata": {},
   "outputs": [],
   "source": [
    "[~,degree_rank] = sort(degree_centrality,\"descend\");\n",
    "[~,closeness_rank] = sort(closeness_centrality,\"descend\");\n",
    "[~,betweenness_rank] = sort(betweenness_centrality,\"descend\");\n",
    "[~,eigenvector_rank] = sort(eigenvector_centrality,\"descend\");\n",
    "[~,pagerank_rank] = sort(pagerank_centrality,\"descend\");\n",
    "\n",
    "rankings = table(degree_rank,closeness_rank,betweenness_rank,...\n",
    "    eigenvector_rank,pagerank_rank,'VariableNames',...\n",
    "    {'Degree','Closeness','Betweenness','Eigenvector','PageRank'});\n",
    "disp(head(rankings))"
   ]
  },
  {
   "cell_type": "markdown",
   "id": "9f8bcd96",
   "metadata": {},
   "source": [
    "To compare the different rankings we can also look at the **scatter plot** of\n",
    "the rankings, e.g.,"
   ]
  },
  {
   "cell_type": "code",
   "execution_count": null,
   "id": "9aac9651",
   "metadata": {},
   "outputs": [],
   "source": [
    "figure(1)\n",
    "subplot(1,2,1);\n",
    "plot(degree_rank,closeness_rank,'o');\n",
    "xlabel('Degree centrality')\n",
    "ylabel('Closeness centrality')\n",
    "axis square\n",
    "subplot(1,2,2);\n",
    "plot(degree_rank,eigenvector_rank,'o');\n",
    "xlabel('Degree centrality')\n",
    "ylabel('Eigenvector centrality')\n",
    "axis square"
   ]
  },
  {
   "cell_type": "markdown",
   "id": "44967ba2",
   "metadata": {},
   "source": [
    "In general it would be better to have also a **quantitative way** of comparing\n",
    "the rankings. We can go for a *statistical test*, in this case a good solution\n",
    "is the Kendall $\\tau$ test.\n",
    "\n",
    "The Kendall $\\tau$ coefficient is defined as:\n",
    "```{math}\n",
    "\\tau = \\frac{(\\text{number of concordant pairs}) - (\\text{number of discordant pairs})}{\n",
    " {n \\choose 2} }.\n",
    "```\n",
    "Where ${n \\choose 2} = {n (n-1) \\over 2}$ is the **binomial coefficient** for\n",
    "the number of ways to choose two items from $n$ items.\n",
    "We can compute it in MATLAB (together with the relevant $p$-value) by doing:"
   ]
  },
  {
   "cell_type": "code",
   "execution_count": null,
   "id": "73cd20d5",
   "metadata": {},
   "outputs": [],
   "source": [
    "[tau,pval] = corr(degree_rank,closeness_rank,'type','Kendall');\n",
    "fprintf(\"Degree vs Closeness tau = %f p-value = %e.\\n\",tau,pval);\n",
    "[tau,pval] = corr(degree_rank,eigenvector_rank,'type','Kendall');\n",
    "fprintf(\"Degree vs Eigenvector tau = %f p-value = %e.\\n\",tau,pval);"
   ]
  },
  {
   "cell_type": "markdown",
   "id": "83f1e02c",
   "metadata": {},
   "source": [
    ":::{warning}\n",
    "Every **centrality measure** is based on an assumption about the concept of\n",
    "importance, e.g, *closeness* and *betweenness* centralities define the importance\n",
    "as an evaluation of the information exchange efficiency within the networks.\n",
    "Others like the degree are purely local popularity measure, while the ones\n",
    "based on the eigenvectors tend to reward highly connected nodes. You should\n",
    "always select your measure while taking into account the model behind the choice.\n",
    ":::\n",
    "\n",
    "## Bibliography\n",
    "\n",
    "```{bibliography}\n",
    ":filter: docname in docnames\n",
    "```"
   ]
  }
 ],
 "metadata": {
  "jupytext": {
   "formats": "md:myst",
   "text_representation": {
    "extension": ".md",
    "format_name": "myst"
   }
  },
  "kernelspec": {
   "display_name": "Matlab",
   "language": "Matlab",
   "name": "matlab"
  },
  "source_map": [
   11,
   83,
   88,
   93,
   98,
   115,
   126,
   130,
   136,
   141,
   153,
   155,
   157,
   177,
   180,
   183,
   204,
   223,
   225,
   230,
   232,
   234,
   236,
   243,
   245,
   247,
   249,
   260,
   263,
   265,
   269,
   275,
   285,
   342,
   363,
   433,
   438,
   446,
   448,
   456,
   458,
   470,
   472,
   479,
   481,
   489,
   491,
   497,
   508,
   512,
   524,
   538,
   543
  ]
 },
 "nbformat": 4,
 "nbformat_minor": 5
}