{
 "cells": [
  {
   "cell_type": "markdown",
   "id": "6b7defe7",
   "metadata": {},
   "source": [
    "# Working with images\n",
    "\n",
    "Up to now we have worked with numerical data (data from experiments to be\n",
    "  adapted to models, simulations of differential equations) and relational data\n",
    "  (networks). This isn't the only type of data you can happen to be dealing with.\n",
    "Another rather frequent occurrence is that of having to analyze images from\n",
    "various sources. We will deal here with the solution of some problems that\n",
    "concern them.\n",
    "\n",
    "The **first issue** we have to solve, is indeed interfacing the computer with\n",
    "this type of data. MATLAB commands can *read*, *write*, and *display* several\n",
    "types of image file formats:\n",
    "- BMP\n",
    "- GIF\n",
    "- HDF\n",
    "- JPEG\n",
    "- PCX\n",
    "- PNG\n",
    "- TIFF\n",
    "- XWD\n",
    "\n",
    "Let us start by downloading from the internet a cat photo and loading it into\n",
    "MATLAB:"
   ]
  },
  {
   "cell_type": "code",
   "execution_count": null,
   "id": "7cb01cd7",
   "metadata": {},
   "outputs": [],
   "source": [
    "% Download an image from the web\n",
    "websave('cat.jpg','https://upload.wikimedia.org/wikipedia/commons/5/52/Panthera_leo_stretching_%28Etosha%2C_2012%29.jpg');\n",
    "A = imread(\"cat.jpg\");"
   ]
  },
  {
   "cell_type": "markdown",
   "id": "583e2f6c",
   "metadata": {},
   "source": [
    "As we have seen many times, the fundamental data in MATLAB is the *array*, and\n",
    "thus the variable `A` we have obtained with the `imread` command is indeed a\n",
    "type of array. In many cases, images can be represented by using matrices, in\n",
    "which entry corresponds to a *single pixel* of the given image. Some images,\n",
    "for example RGB color images, require instead a tensor to be represented, that\n",
    "is, if you prefer, a three-dimensional array. In the first plane (with respect\n",
    "  to the third dimension) we represent the red pixel intensities, in the second\n",
    "  one we represent the green pixel intensities, and finally in the third one\n",
    "  the blue pixel intensities.\n",
    "\n",
    "Indeed, if we query for the variable we have just created, we find as much"
   ]
  },
  {
   "cell_type": "code",
   "execution_count": null,
   "id": "6959db88",
   "metadata": {},
   "outputs": [],
   "source": [
    "whos A"
   ]
  },
  {
   "cell_type": "markdown",
   "id": "e1efdb89",
   "metadata": {},
   "source": [
    "that is $A$ is a vector of integers of sizes $2000 \\times 3000 \\times 3$. We can\n",
    "look at the figure it represents by doing"
   ]
  },
  {
   "cell_type": "code",
   "execution_count": null,
   "id": "400289d0",
   "metadata": {},
   "outputs": [],
   "source": [
    "imshow(A);"
   ]
  },
  {
   "cell_type": "markdown",
   "id": "933753b8",
   "metadata": {},
   "source": [
    "Other general utility functions that we can consider are\n",
    "- converting an RGB image to grayscale"
   ]
  },
  {
   "cell_type": "code",
   "execution_count": null,
   "id": "bffd3959",
   "metadata": {},
   "outputs": [],
   "source": [
    "Agray = rgb2gray(A);\n",
    "imshow(Agray);"
   ]
  },
  {
   "cell_type": "markdown",
   "id": "925e6459",
   "metadata": {},
   "source": [
    "- create a *tiled image* from multiple images"
   ]
  },
  {
   "cell_type": "code",
   "execution_count": null,
   "id": "6f80dc77",
   "metadata": {},
   "outputs": [],
   "source": [
    "tile = imtile({A,Agray});\n",
    "imshow(tile);"
   ]
  },
  {
   "cell_type": "markdown",
   "id": "a460e4f5",
   "metadata": {},
   "source": [
    "- cropping and saving a reduced size image\n",
    "```{code} matlab\n",
    "image(A); axis image;\n",
    "p = ginput(2);\n",
    "% Get the x and y corner coordinates as integers\n",
    "sp(1) = min(floor(p(1)), floor(p(2))); %xmin\n",
    "sp(2) = min(floor(p(3)), floor(p(4))); %ymin\n",
    "sp(3) = max(ceil(p(1)), ceil(p(2)));   %xmax\n",
    "sp(4) = max(ceil(p(3)), ceil(p(4)));   %ymax\n",
    "CroppedA = A(sp(2):sp(4), sp(1): sp(3),:);\n",
    "figure; image(CroppedA); axis image\n",
    "imwrite(CroppedA,'cropped_cat.jpg');\n",
    "```\n",
    "```{image} images/cropped_cat.jpg\n",
    ":alt: cropped cat\n",
    ":align: center\n",
    ":width: 80%\n",
    "```\n",
    "in which we have used the `ginput` command to get the coordinates of some\n",
    "points from the figure, and the `imwrite` command to save the cropped figure\n",
    "to a file.\n",
    "- obtaining information about graphics files (maybe useful before loading them)"
   ]
  },
  {
   "cell_type": "code",
   "execution_count": null,
   "id": "8240d3e2",
   "metadata": {},
   "outputs": [],
   "source": [
    "iminfo = imfinfo('cat.jpg')"
   ]
  },
  {
   "cell_type": "markdown",
   "id": "7a47dfc3",
   "metadata": {},
   "source": [
    "- resizing images, if you want to enlarge a figure you need to *guess* somehow\n",
    "the value of the missing pixels, similarly, if you reduce it, you have to\n",
    "*decide* how to modify the remaining ones. This is done via an *interpolation kernel*\n",
    "function that calculates the value of a pixel using a weighted average of\n",
    "neighboring pixel values"
   ]
  },
  {
   "cell_type": "code",
   "execution_count": null,
   "id": "4ff3a12f",
   "metadata": {},
   "outputs": [],
   "source": [
    "subplot(1,3,1)\n",
    "Ares = imresize(A, 0.5, \"Method\",\"bicubic\");\n",
    "image(Ares); axis image;\n",
    "subplot(1,3,2)\n",
    "Ares = imresize(A, 1.5, \"Method\",\"bilinear\");\n",
    "image(Ares); axis image;\n",
    "subplot(1,3,3)\n",
    "Ares = imresize(A, 3, \"Method\",\"nearest\");\n",
    "image(Ares); axis image;"
   ]
  },
  {
   "cell_type": "markdown",
   "id": "74629819",
   "metadata": {},
   "source": [
    "## Denoising images\n",
    "\n",
    "A part from photos of cats sometimes we get photos from experimental instruments\n",
    "that are littered with noise, and that we wish to remove. This may be either for\n",
    "simply having a better looking photo, or as a first step in a following analysis.\n",
    "\n",
    "From the **wavelet Toolbox** you can use the following procedure to *denoise* an\n",
    "image:"
   ]
  },
  {
   "cell_type": "code",
   "execution_count": null,
   "id": "994b61f8",
   "metadata": {},
   "outputs": [],
   "source": [
    "Anoise = imnoise(A,'gaussian',0,0.01);\n",
    "tile = imtile({A,Anoise});\n",
    "imshow(tile);\n",
    "Adenoise = wdenoise2(Anoise);\n",
    "tile = imtile({A,Anoise,uint8(Adenoise)});\n",
    "imshow(tile);"
   ]
  },
  {
   "cell_type": "markdown",
   "id": "f3283cdc",
   "metadata": {},
   "source": [
    "::::{tip}\n",
    "A **wavelet transforms** of a given signal of finite energy acts as a projection\n",
    "on a continuous family of *frequency bands*. We can represent, for instance, the\n",
    "signal could be represented on every frequency band $[f,2f]$ for all $f > 0$,\n",
    "for example for $f = 1$ one could select the function\n",
    "```{math}\n",
    "\\phi(t) = \\frac{\\sin(2\\pi t) - \\sin(\\pi t)}{\\pi t},\n",
    "```\n",
    "and for the bands $[1/a,2/a]$ by the function\n",
    "```{math}\n",
    "\\phi_{a,b} = \\frac{1}{\\sqrt{a}} \\phi\\left(\\frac{t-b}{a}\\right), \\quad b \\in \\mathbb{R}.\n",
    "```\n",
    "Then a signal $x(t)$ can be decomposed as\n",
    "```{math}\n",
    "x_a(t) = \\int_{\\mathbb{R}} W_\\phi\\{x\\}(a,b) \\cdot \\phi_{a,b}(t)\\,\\textrm{d}b, \\quad W_\\phi\\{x\\}(a,b) = \\int_{\\mathbb{R}} x(t) \\phi_{a,b}(t)\\,\\textrm{d}t.\n",
    "```\n",
    "Since it is *computationally intractable* to analyze a continuous signal this\n",
    "way, we usually reduce to a *smaller set of discrete coefficients*\n",
    "```{math}\n",
    "x(t) = \\sum_{m \\in \\mathbb{Z}}\\sum_{n \\in mathbb{Z}} C_{m,n} \\phi_{m,n}(t), \\quad \\phi_{m,n}(t) = \\frac{1}{\\sqrt{a^m}} \\phi\\left(\\frac{t-nb}{a^m}\\right), \\quad C_{m,n} = \\int_{\\mathbb{R}} x(t) \\phi_{m,n}(t)\\,\\textrm{d}t.\n",
    "```\n",
    "In any case, when we have computed the coefficient, what we do to *denoise the image*\n",
    "is to throw away the \"small one\" that are mostly noises, while the \"large ones\"\n",
    "contain actual signal.\n",
    "::::\n",
    "\n",
    "Further options can be analyzed by looking at the `help wdenoise2`.\n",
    "\n",
    "This is a classic way of solving this kind of problem. In recent times, another\n",
    "widely used approach is that of **neural networks**. The **Image Processing MATLAB Toolbox**\n",
    "has a *pretrained* neural network for denoising *black and white* images, it can\n",
    "be called by doing:"
   ]
  },
  {
   "cell_type": "code",
   "execution_count": null,
   "id": "2bf0e444",
   "metadata": {},
   "outputs": [],
   "source": [
    "Agray = rgb2gray(A);\n",
    "Agraynoise = imnoise(Agray,'gaussian',0,0.01);\n",
    "net = denoisingNetwork('DnCNN');\n",
    "Adenoisenet = denoiseImage(Agraynoise,net);\n",
    "tile = imtile({Agray,Agraynoise,uint8(Adenoisenet)});\n",
    "imshow(tile);"
   ]
  },
  {
   "cell_type": "markdown",
   "id": "746c5ebd",
   "metadata": {},
   "source": [
    "the network `denoisingNetwork('DnCNN')` is a rather complex object whose\n",
    "structure can be investigated by doing"
   ]
  },
  {
   "cell_type": "code",
   "execution_count": null,
   "id": "7df12fca",
   "metadata": {},
   "outputs": [],
   "source": [
    "disp(net.Layers)"
   ]
  },
  {
   "cell_type": "markdown",
   "id": "b0f12fee",
   "metadata": {},
   "source": [
    "We could **train** a new network for this task, but this is a rater complex\n",
    "topic, and a computationally intensive task. Therefore, we are not going to\n",
    "pursue it.\n",
    "\n",
    "## Deblurring images\n",
    "\n",
    "The **blurring** of an image can be caused by many factors, the classical are\n",
    "- a movement during the image capture process, e.g., a slight movement of the\n",
    "camera or even a micro-movement if long exposure times are used,\n",
    "- an out-of-focus optics,\n",
    "- the use of a wide-angle lens,\n",
    "- an atmospheric turbulence for telescopic images,\n",
    "- a too a short exposure time, e.g., the phenomena is very fast,\n",
    "- the presence of scattered light and light distortion in confocal microscopy.\n",
    "\n",
    "As many other things we have seen until now in this course, a **blurred image**\n",
    "can be described (at least approximately) by a *linear equation*:\n",
    "```{math}\n",
    "\\mathbf{y} = H \\mathbf{x} + \\mathbf{e},\n",
    "```\n",
    "where $\\mathbf{x}$ is the image we would like to have, $\\mathbf{y}$ is the image\n",
    "we got from the measurement procedure, $\\mathbf{e}$ the noise vector, and\n",
    "$H$ the *so-called* blur operator that encodes one of the **blurring** phenomena.\n",
    "\n",
    "As we have done for the *noise* problem, we start by creating a fictitious *blurred*\n",
    "image. To reduce the computation time, we use a smaller example than the lion\n",
    "that is distributed with MATLAB"
   ]
  },
  {
   "cell_type": "code",
   "execution_count": null,
   "id": "773ef81c",
   "metadata": {},
   "outputs": [],
   "source": [
    "% First we read and visualize the image:\n",
    "I = im2double(imread('peppers.png'));\n",
    "figure(1)\n",
    "subplot(1,2,1);\n",
    "imshow(I);\n",
    "title('Original Image');\n",
    "% We create the operator H by using a PSF function\n",
    "LEN = 31;\n",
    "THETA = 11;\n",
    "PSF = fspecial('motion',LEN,THETA);\n",
    "Blurred = imfilter(I,PSF,'circular','conv');\n",
    "figure(1);\n",
    "subplot(1,2,2);\n",
    "imshow(Blurred);\n",
    "title('Blurred Image');"
   ]
  },
  {
   "cell_type": "markdown",
   "id": "9621f82e",
   "metadata": {},
   "source": [
    "We need to discuss several aspects of these commands, first of all we need to\n",
    "describe how we build the $H$ operator. This is done through the usage of a\n",
    "**P**oint **S**pread **F**unction (PSF), this function describes the response\n",
    "of the imaging system we are using when solicited by a point source. If we have\n",
    "in mind the model of a camera, this essentially tells us how a single ray of\n",
    "light (the point source) is distorted by the equipment we are using.\n",
    "\n",
    "We produce a **synthetic response** by means of the `fspecial` function, its\n",
    "`help` produce\n",
    "```\n",
    "fspecial Create predefined 2-D filters.\n",
    "   H = fspecial(TYPE) creates a two-dimensional filter H of the\n",
    "   specified type. Possible values for TYPE are:\n",
    "\n",
    "     'average'   averaging filter\n",
    "     'disk'      circular averaging filter\n",
    "     'gaussian'  Gaussian lowpass filter\n",
    "     'laplacian' filter approximating the 2-D Laplacian operator\n",
    "     'log'       Laplacian of Gaussian filter\n",
    "     'motion'    motion filter\n",
    "     'prewitt'   Prewitt horizontal edge-emphasizing filter\n",
    "     'sobel'     Sobel horizontal edge-emphasizing filter\n",
    "```\n",
    "that proposes several type of filters. We selected a `motion blur`, that\n",
    "represents a linear motion of a camera by `LEN` pixels, with an angle of `THETA`\n",
    "degrees in a counter-clockwise direction. Then, we build the operator $H$ by\n",
    "using the `imfilter` function. This operation needs the image on which we want\n",
    "to apply the the filtering, the PSF, the way in which we decide to model the\n",
    "boundaries of the image:\n",
    "```\n",
    "B = imfilter(A,H,OPTION1,OPTION2,...) performs multidimensional\n",
    "filtering according to the specified options.  Option arguments can\n",
    "have the following values:\n",
    "\n",
    "- Boundary options\n",
    "\n",
    "    X            Input array values outside the bounds of the array\n",
    "                 are implicitly assumed to have the value X.  When no\n",
    "                 boundary option is specified, imfilter uses X = 0.\n",
    "\n",
    "    'symmetric'  Input array values outside the bounds of the array\n",
    "                 are computed by mirror-reflecting the array across\n",
    "                 the array border.\n",
    "\n",
    "    'replicate'  Input array values outside the bounds of the array\n",
    "                 are assumed to equal the nearest array border\n",
    "                 value.\n",
    "\n",
    "    'circular'   Input array values outside the bounds of the array\n",
    "                 are computed by implicitly assuming the input array\n",
    "                 is periodic.\n",
    "```\n",
    "This is a **crucial** part, we need to guess how the image behaves out of the\n",
    "picture frame. This value are needed to close the model equation. For this test\n",
    "case we selected the `circular` option, that assumes that the values at the\n",
    "boundary are periodic. The last option decides how the PSF is transformed into\n",
    "the operator $H$\n",
    "```\n",
    "- Correlation and convolution\n",
    "\n",
    "    'corr'       imfilter performs multidimensional filtering using\n",
    "                 correlation, which is the same way that FILTER2\n",
    "                 performs filtering.  When no correlation or\n",
    "                 convolution option is specified, imfilter uses\n",
    "                 correlation.\n",
    "\n",
    "    'conv'       imfilter performs multidimensional filtering using\n",
    "                 convolution.\n",
    "```\n",
    "Following the intuition behind the choice of the camera model, we decide for\n",
    "a `conv` process. At the end of this whole procedure, the variable `Blurred`\n",
    "contains the deteriorated image that we want to restore.\n",
    "\n",
    "To **complete the problem** to a realistic solution, we need to also add some\n",
    "noise to the image. We have seen this procedure already in the previous\n",
    "section."
   ]
  },
  {
   "cell_type": "code",
   "execution_count": null,
   "id": "d96172a8",
   "metadata": {},
   "outputs": [],
   "source": [
    "BlurredNoised = imnoise(Blurred,'gaussian',0,0.001);\n",
    "figure(2)\n",
    "imshow(BlurredNoised);\n",
    "title('Image to be restored');"
   ]
  },
  {
   "cell_type": "markdown",
   "id": "b3b76f6a",
   "metadata": {},
   "source": [
    "Now that we have the problem we want to solve, we can look at the routine\n",
    "proposed by MATLAB to solve this problem.\n",
    "\n",
    "We use the `deconvwnr` function, this function requires as inputs the PSF, and\n",
    "the noise-to-signal-power ratio, let us start by looking at what happens if we miss the\n",
    "level of noise. As an example, let us suppose that we underestimate it, and\n",
    "decide that our image has no noise whatsoever:"
   ]
  },
  {
   "cell_type": "code",
   "execution_count": null,
   "id": "2d8b1312",
   "metadata": {},
   "outputs": [],
   "source": [
    "nsr = 0;\n",
    "Restored = deconvwnr(BlurredNoised,PSF,nsr);\n",
    "imshow(Restored);"
   ]
  },
  {
   "cell_type": "markdown",
   "id": "3ad98569",
   "metadata": {},
   "source": [
    "With this poor choice the algorithm is incapable of finding anything useful. We\n",
    "end up with a worse reconstruction than the image we had start with. In principle\n",
    "the problem we are trying to solve is nothing more than a linear system, the\n",
    "problem is that *we do not want to solve it completely*, if we do a complete\n",
    "solution we end up recovering only noise! Thus, many of the algorithms for this\n",
    "task require that the user provide an estimate of the noise. This is used to\n",
    "halt the solution procedure at a point in which the obtained solution makes\n",
    "sense. Thus, let us try with a better guess:"
   ]
  },
  {
   "cell_type": "code",
   "execution_count": null,
   "id": "7f171cd2",
   "metadata": {},
   "outputs": [],
   "source": [
    "nsr = 0.001 / var(I(:));\n",
    "Restored = deconvwnr(BlurredNoised,PSF,nsr);\n",
    "figure(3)\n",
    "imshow(Restored);"
   ]
  },
  {
   "cell_type": "markdown",
   "id": "5dd297c2",
   "metadata": {},
   "source": [
    "That is indeed a better result.\n",
    "\n",
    "\n",
    "To have a complete introduction to this type of problems a good starting point\n",
    "is the book {cite}`MR2584074`, there are then a number of books covering\n",
    "specific aspects ranging from the atmosphere {cite}`doicu2010numerical` to\n",
    "geophysical {cite}`zhdanov2002geophysical,sun2013inverse`.\n",
    "\n",
    "## Bibliography\n",
    "\n",
    "```{bibliography}\n",
    ":filter: docname in docnames\n",
    "```"
   ]
  }
 ],
 "metadata": {
  "jupytext": {
   "formats": "md:myst",
   "text_representation": {
    "extension": ".md",
    "format_name": "myst"
   }
  },
  "kernelspec": {
   "display_name": "Matlab",
   "language": "Matlab",
   "name": "matlab"
  },
  "source_map": [
   11,
   35,
   39,
   51,
   53,
   56,
   58,
   61,
   64,
   66,
   69,
   92,
   94,
   100,
   110,
   120,
   127,
   161,
   168,
   171,
   173,
   201,
   217,
   294,
   299,
   308,
   312,
   321,
   326
  ]
 },
 "nbformat": 4,
 "nbformat_minor": 5
}